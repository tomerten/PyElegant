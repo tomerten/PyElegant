{
 "cells": [
  {
   "cell_type": "code",
   "execution_count": 1,
   "metadata": {},
   "outputs": [
    {
     "data": {
      "text/html": [
       "<style>.container {width:95% !important;} </style>"
      ],
      "text/plain": [
       "<IPython.core.display.HTML object>"
      ]
     },
     "metadata": {},
     "output_type": "display_data"
    }
   ],
   "source": [
    "from IPython.core.display import display,HTML\n",
    "display(HTML(\"<style>.container {width:95% !important;} </style>\"))\n",
    "\n",
    "%load_ext autoreload\n",
    "%autoreload 2"
   ]
  },
  {
   "cell_type": "code",
   "execution_count": 39,
   "metadata": {},
   "outputs": [],
   "source": [
    "import os\n",
    "import re\n",
    "import pandas as pd\n",
    "import numpy as np\n",
    "import shlex\n",
    "from io import StringIO\n",
    "\n",
    "from time import perf_counter\n",
    "\n",
    "from matplotlib import pyplot as plt"
   ]
  },
  {
   "cell_type": "code",
   "execution_count": 3,
   "metadata": {},
   "outputs": [],
   "source": [
    "from pyelegant.ElegantRun import ElegantRun\n",
    "from pyelegant.SDDSTools.SDDS import SDDS, SDDSCommand\n",
    "from pyelegant.SDDSTools.Utils import GenerateNDimCoordinateGrid"
   ]
  },
  {
   "cell_type": "code",
   "execution_count": 5,
   "metadata": {},
   "outputs": [],
   "source": [
    "sif = \"/home/mti/gitlab-hzb/containers/bin/pelegant.sif\""
   ]
  },
  {
   "cell_type": "markdown",
   "metadata": {},
   "source": [
    "# Creating lattice"
   ]
  },
  {
   "cell_type": "code",
   "execution_count": 6,
   "metadata": {},
   "outputs": [],
   "source": [
    "elements ={\n",
    "    \"QF\":{\n",
    "        \"type\" : \"KQUAD\",\n",
    "        \"L\": 0.342,\n",
    "        \"K1\": 0.49,\n",
    "        \"N_KICKS\":16\n",
    "    },\n",
    "    \"QD\":{\n",
    "        \"type\" : \"KQUAD\",\n",
    "        \"L\": 0.668,\n",
    "        \"K1\": -0.4999,\n",
    "        \"N_KICKS\":16\n",
    "    },\n",
    "    \"D\":{\n",
    "        \"type\" : \"DRIF\",\n",
    "     \"L\":3.5805   \n",
    "    },\n",
    "    \"W1\": {\n",
    "        \"type\": \"WATCH\",\n",
    "        \"filename\":\"\\\"%s-%03ld.w1\\\"\",\n",
    "        \"mode\": \"coordinates\"\n",
    "    }\n",
    "}\n",
    "\n",
    "FODOstr = \"! FODO cell used by Jernej Frank for studying TRIBs\\n\\n\"\n",
    "stringlist = [\"{:6}: {}\".format(k,\", \".join([\"{}={:15.12f}\".format(kk,vv) \n",
    "                                             if not isinstance(vv,str)\n",
    "                                             else \"{}={}\".format(kk,vv)\n",
    "                                             if kk!=\"type\" else \"{}\".format(vv) for kk,vv in v.items()])) \n",
    "              for k,v in elements.items()]\n",
    "line = [\"W1\",\"QF\",\"D\",\"QD\",\"D\",\"QF\"]\n",
    "linestr = \"{:6}: LINE=({})\".format(\"FODO\",\",\".join(line))\n",
    "FODOstr += \"\\n\".join(stringlist)\n",
    "FODOstr += \"\\n\\n\"\n",
    "FODOstr += linestr"
   ]
  },
  {
   "cell_type": "code",
   "execution_count": 7,
   "metadata": {},
   "outputs": [
    {
     "name": "stdout",
     "output_type": "stream",
     "text": [
      "! FODO cell used by Jernej Frank for studying TRIBs\n",
      "\n",
      "QF    : KQUAD, L= 0.342000000000, K1= 0.490000000000, N_KICKS=16.000000000000\n",
      "QD    : KQUAD, L= 0.668000000000, K1=-0.499900000000, N_KICKS=16.000000000000\n",
      "D     : DRIF, L= 3.580500000000\n",
      "W1    : WATCH, filename=\"%s-%03ld.w1\", mode=coordinates\n",
      "\n",
      "FODO  : LINE=(W1,QF,D,QD,D,QF)\n"
     ]
    }
   ],
   "source": [
    "print(FODOstr)"
   ]
  },
  {
   "cell_type": "code",
   "execution_count": 8,
   "metadata": {},
   "outputs": [],
   "source": [
    "with open(\"FODO_Jernej.lte\",\"w\") as f:\n",
    "    f.write(FODOstr)"
   ]
  },
  {
   "cell_type": "code",
   "execution_count": 9,
   "metadata": {},
   "outputs": [],
   "source": [
    "lattice = \"FODO_Jernej.lte\""
   ]
  },
  {
   "cell_type": "markdown",
   "metadata": {},
   "source": [
    "# Running simulations and plotting"
   ]
  },
  {
   "cell_type": "code",
   "execution_count": 10,
   "metadata": {},
   "outputs": [],
   "source": [
    "# setup elegant simulator\n",
    "er = ElegantRun(sif,lattice, parallel=True, use_beamline=\"FODO\", energy=1700.00)"
   ]
  },
  {
   "cell_type": "code",
   "execution_count": 14,
   "metadata": {},
   "outputs": [],
   "source": [
    "twidata, twipar = er.findtwiss()"
   ]
  },
  {
   "cell_type": "code",
   "execution_count": 15,
   "metadata": {},
   "outputs": [
    {
     "data": {
      "text/plain": [
       "Index(['Step', 'nux', 'dnux/dp', 'dnux/dp2', 'dnux/dp3', 'Ax', 'AxLocation',\n",
       "       'nuy', 'dnuy/dp', 'dnuy/dp2', 'dnuy/dp3', 'Ay', 'AyLocation',\n",
       "       'deltaHalfRange', 'nuxChromUpper', 'nuxChromLower', 'nuyChromUpper',\n",
       "       'nuyChromLower', 'pCentral', 'dbetax/dp', 'dbetay/dp', 'dalphax/dp',\n",
       "       'dalphay/dp', 'etax2', 'etay2', 'etax3', 'etay3', 'etaxp2', 'etayp2',\n",
       "       'etaxp3', 'etayp3', 'betaxMin', 'betaxAve', 'betaxMax', 'betayMin',\n",
       "       'betayAve', 'betayMax', 'etaxMax', 'etayMax', 'waistsx', 'waistsy',\n",
       "       'dnux/dAx', 'dnux/dAy', 'dnuy/dAx', 'dnuy/dAy', 'dnux/dAx2',\n",
       "       'dnux/dAy2', 'dnux/dAxAy', 'dnuy/dAx2', 'dnuy/dAy2', 'dnuy/dAxAy',\n",
       "       'nuxTswaLower', 'nuxTswaUpper', 'nuyTswaLower', 'nuyTswaUpper',\n",
       "       'couplingIntegral', 'couplingDelta', 'emittanceRatio', 'alphac2',\n",
       "       'alphac', 'I1', 'I2', 'I3', 'I4', 'I5', 'ex0', 'enx0', 'taux', 'Jx',\n",
       "       'tauy', 'Jy', 'Sdelta0', 'taudelta', 'Jdelta', 'U0', 'length'],\n",
       "      dtype='object', name='ParameterName')"
      ]
     },
     "execution_count": 15,
     "metadata": {},
     "output_type": "execute_result"
    }
   ],
   "source": [
    "twipar.index"
   ]
  },
  {
   "cell_type": "code",
   "execution_count": 16,
   "metadata": {},
   "outputs": [
    {
     "data": {
      "text/plain": [
       "(3326.816, 0.0)"
      ]
     },
     "execution_count": 16,
     "metadata": {},
     "output_type": "execute_result"
    }
   ],
   "source": [
    "twipar.pCentral, twipar.I2"
   ]
  },
  {
   "cell_type": "code",
   "execution_count": 17,
   "metadata": {},
   "outputs": [],
   "source": [
    "tup = er.find_matrices(SDDS_output_order=4)"
   ]
  },
  {
   "cell_type": "code",
   "execution_count": 18,
   "metadata": {},
   "outputs": [
    {
     "data": {
      "text/plain": [
       "4.9902239999999995"
      ]
     },
     "execution_count": 18,
     "metadata": {},
     "output_type": "execute_result"
    }
   ],
   "source": [
    "delta = 1.5e-3 * twipar.pCentral\n",
    "delta"
   ]
  },
  {
   "cell_type": "code",
   "execution_count": 19,
   "metadata": {},
   "outputs": [
    {
     "data": {
      "text/plain": [
       "3331.806224"
      ]
     },
     "execution_count": 19,
     "metadata": {},
     "output_type": "execute_result"
    }
   ],
   "source": [
    "twipar.pCentral + delta "
   ]
  },
  {
   "cell_type": "markdown",
   "metadata": {},
   "source": [
    "## Setting up initial coord grids"
   ]
  },
  {
   "cell_type": "code",
   "execution_count": 34,
   "metadata": {},
   "outputs": [],
   "source": [
    "man_ranges_px0 = {\n",
    "    0 : np.array([0,1e-6,1e-5,1e-4,1e-3,1e-2,1e-1,1,1.1,1.2,1.3,1.4,1.5,1.6,1.7,1.8,1.9,1.95,1.975,1.9875,2,2.1,2.2,2.3]),\n",
    "    1 : [0], #0.05\n",
    "    2 : 0,\n",
    "    3 : 0,\n",
    "    4 : 0,\n",
    "    5 : twipar.pCentral + delta \n",
    "}\n",
    "\n",
    "man_ranges_px0p05 = {\n",
    "    0 : np.array([0,1e-6,1e-5,1e-4,1e-3,1e-2,1e-1,1,1.1,1.2,1.3,1.4,1.5,1.6,1.7,1.8,1.9,1.95,1.975,1.9875,2,2.1,2.2,2.3]),\n",
    "    1 : [0.05], #0.05\n",
    "    2 : 0,\n",
    "    3 : 0,\n",
    "    4 : 0,\n",
    "    5 : twipar.pCentral + delta \n",
    "}\n",
    "\n",
    "man_ranges_lim = {\n",
    "    0 : np.array([1.7,1.8,1.9,1.95,1.975,1.9875]),\n",
    "    1 : [0.05], #0.05\n",
    "    2 : 0,\n",
    "    3 : 0,\n",
    "    4 : 0,\n",
    "    5 : twipar.pCentral + delta \n",
    "}"
   ]
  },
  {
   "cell_type": "markdown",
   "metadata": {},
   "source": [
    "## Running sims and plot"
   ]
  },
  {
   "cell_type": "code",
   "execution_count": 25,
   "metadata": {},
   "outputs": [
    {
     "name": "stdout",
     "output_type": "stream",
     "text": [
      "Shape: (24, 6) - Number of paritcles: 24 \n",
      "Running command /home/mti/gitlab-hzb/containers/bin/pelegant.sif plaindata2sdds temp_plain_particles.dat temp_particles_input.bin -inputMode=ascii -outputMode=binary \"-separator=  \" -column=x,double,units=m -column=xp,double -column=y,double,units=m -column=yp,double -column=t,double,units=s -column=p,double,units=\"m$be$nc\" -columns=particleID,long -noRowCount\n",
      "bash run_pelegant.sh\n",
      "bash run_pelegant.sh temp.ele\n"
     ]
    }
   ],
   "source": [
    "er.generate_sdds_particle_inputfile(man_ranges=man_ranges_px0)\n",
    "er.track_simple(n_passes=1000)"
   ]
  },
  {
   "cell_type": "code",
   "execution_count": 29,
   "metadata": {},
   "outputs": [
    {
     "data": {
      "text/html": [
       "<div>\n",
       "<style scoped>\n",
       "    .dataframe tbody tr th:only-of-type {\n",
       "        vertical-align: middle;\n",
       "    }\n",
       "\n",
       "    .dataframe tbody tr th {\n",
       "        vertical-align: top;\n",
       "    }\n",
       "\n",
       "    .dataframe thead th {\n",
       "        text-align: right;\n",
       "    }\n",
       "</style>\n",
       "<table border=\"1\" class=\"dataframe\">\n",
       "  <thead>\n",
       "    <tr style=\"text-align: right;\">\n",
       "      <th></th>\n",
       "      <th>x</th>\n",
       "      <th>xp</th>\n",
       "      <th>y</th>\n",
       "      <th>yp</th>\n",
       "      <th>t</th>\n",
       "      <th>p</th>\n",
       "      <th>particleID</th>\n",
       "    </tr>\n",
       "  </thead>\n",
       "  <tbody>\n",
       "    <tr>\n",
       "      <th>0</th>\n",
       "      <td>0.000000</td>\n",
       "      <td>0.0</td>\n",
       "      <td>0.0</td>\n",
       "      <td>0.0</td>\n",
       "      <td>0.0</td>\n",
       "      <td>3331.806224</td>\n",
       "      <td>1</td>\n",
       "    </tr>\n",
       "    <tr>\n",
       "      <th>1</th>\n",
       "      <td>0.000001</td>\n",
       "      <td>0.0</td>\n",
       "      <td>0.0</td>\n",
       "      <td>0.0</td>\n",
       "      <td>0.0</td>\n",
       "      <td>3331.806224</td>\n",
       "      <td>2</td>\n",
       "    </tr>\n",
       "    <tr>\n",
       "      <th>2</th>\n",
       "      <td>0.000010</td>\n",
       "      <td>0.0</td>\n",
       "      <td>0.0</td>\n",
       "      <td>0.0</td>\n",
       "      <td>0.0</td>\n",
       "      <td>3331.806224</td>\n",
       "      <td>3</td>\n",
       "    </tr>\n",
       "    <tr>\n",
       "      <th>3</th>\n",
       "      <td>0.000100</td>\n",
       "      <td>0.0</td>\n",
       "      <td>0.0</td>\n",
       "      <td>0.0</td>\n",
       "      <td>0.0</td>\n",
       "      <td>3331.806224</td>\n",
       "      <td>4</td>\n",
       "    </tr>\n",
       "    <tr>\n",
       "      <th>4</th>\n",
       "      <td>0.001000</td>\n",
       "      <td>0.0</td>\n",
       "      <td>0.0</td>\n",
       "      <td>0.0</td>\n",
       "      <td>0.0</td>\n",
       "      <td>3331.806224</td>\n",
       "      <td>5</td>\n",
       "    </tr>\n",
       "    <tr>\n",
       "      <th>5</th>\n",
       "      <td>0.010000</td>\n",
       "      <td>0.0</td>\n",
       "      <td>0.0</td>\n",
       "      <td>0.0</td>\n",
       "      <td>0.0</td>\n",
       "      <td>3331.806224</td>\n",
       "      <td>6</td>\n",
       "    </tr>\n",
       "    <tr>\n",
       "      <th>6</th>\n",
       "      <td>0.100000</td>\n",
       "      <td>0.0</td>\n",
       "      <td>0.0</td>\n",
       "      <td>0.0</td>\n",
       "      <td>0.0</td>\n",
       "      <td>3331.806224</td>\n",
       "      <td>7</td>\n",
       "    </tr>\n",
       "    <tr>\n",
       "      <th>7</th>\n",
       "      <td>1.000000</td>\n",
       "      <td>0.0</td>\n",
       "      <td>0.0</td>\n",
       "      <td>0.0</td>\n",
       "      <td>0.0</td>\n",
       "      <td>3331.806224</td>\n",
       "      <td>8</td>\n",
       "    </tr>\n",
       "    <tr>\n",
       "      <th>8</th>\n",
       "      <td>1.100000</td>\n",
       "      <td>0.0</td>\n",
       "      <td>0.0</td>\n",
       "      <td>0.0</td>\n",
       "      <td>0.0</td>\n",
       "      <td>3331.806224</td>\n",
       "      <td>9</td>\n",
       "    </tr>\n",
       "    <tr>\n",
       "      <th>9</th>\n",
       "      <td>1.200000</td>\n",
       "      <td>0.0</td>\n",
       "      <td>0.0</td>\n",
       "      <td>0.0</td>\n",
       "      <td>0.0</td>\n",
       "      <td>3331.806224</td>\n",
       "      <td>10</td>\n",
       "    </tr>\n",
       "    <tr>\n",
       "      <th>10</th>\n",
       "      <td>1.300000</td>\n",
       "      <td>0.0</td>\n",
       "      <td>0.0</td>\n",
       "      <td>0.0</td>\n",
       "      <td>0.0</td>\n",
       "      <td>3331.806224</td>\n",
       "      <td>11</td>\n",
       "    </tr>\n",
       "    <tr>\n",
       "      <th>11</th>\n",
       "      <td>1.400000</td>\n",
       "      <td>0.0</td>\n",
       "      <td>0.0</td>\n",
       "      <td>0.0</td>\n",
       "      <td>0.0</td>\n",
       "      <td>3331.806224</td>\n",
       "      <td>12</td>\n",
       "    </tr>\n",
       "    <tr>\n",
       "      <th>12</th>\n",
       "      <td>1.500000</td>\n",
       "      <td>0.0</td>\n",
       "      <td>0.0</td>\n",
       "      <td>0.0</td>\n",
       "      <td>0.0</td>\n",
       "      <td>3331.806224</td>\n",
       "      <td>13</td>\n",
       "    </tr>\n",
       "    <tr>\n",
       "      <th>13</th>\n",
       "      <td>1.600000</td>\n",
       "      <td>0.0</td>\n",
       "      <td>0.0</td>\n",
       "      <td>0.0</td>\n",
       "      <td>0.0</td>\n",
       "      <td>3331.806224</td>\n",
       "      <td>14</td>\n",
       "    </tr>\n",
       "    <tr>\n",
       "      <th>14</th>\n",
       "      <td>1.700000</td>\n",
       "      <td>0.0</td>\n",
       "      <td>0.0</td>\n",
       "      <td>0.0</td>\n",
       "      <td>0.0</td>\n",
       "      <td>3331.806224</td>\n",
       "      <td>15</td>\n",
       "    </tr>\n",
       "    <tr>\n",
       "      <th>15</th>\n",
       "      <td>1.800000</td>\n",
       "      <td>0.0</td>\n",
       "      <td>0.0</td>\n",
       "      <td>0.0</td>\n",
       "      <td>0.0</td>\n",
       "      <td>3331.806224</td>\n",
       "      <td>16</td>\n",
       "    </tr>\n",
       "    <tr>\n",
       "      <th>16</th>\n",
       "      <td>1.900000</td>\n",
       "      <td>0.0</td>\n",
       "      <td>0.0</td>\n",
       "      <td>0.0</td>\n",
       "      <td>0.0</td>\n",
       "      <td>3331.806224</td>\n",
       "      <td>17</td>\n",
       "    </tr>\n",
       "    <tr>\n",
       "      <th>17</th>\n",
       "      <td>1.950000</td>\n",
       "      <td>0.0</td>\n",
       "      <td>0.0</td>\n",
       "      <td>0.0</td>\n",
       "      <td>0.0</td>\n",
       "      <td>3331.806224</td>\n",
       "      <td>18</td>\n",
       "    </tr>\n",
       "    <tr>\n",
       "      <th>18</th>\n",
       "      <td>1.975000</td>\n",
       "      <td>0.0</td>\n",
       "      <td>0.0</td>\n",
       "      <td>0.0</td>\n",
       "      <td>0.0</td>\n",
       "      <td>3331.806224</td>\n",
       "      <td>19</td>\n",
       "    </tr>\n",
       "    <tr>\n",
       "      <th>19</th>\n",
       "      <td>1.987500</td>\n",
       "      <td>0.0</td>\n",
       "      <td>0.0</td>\n",
       "      <td>0.0</td>\n",
       "      <td>0.0</td>\n",
       "      <td>3331.806224</td>\n",
       "      <td>20</td>\n",
       "    </tr>\n",
       "    <tr>\n",
       "      <th>20</th>\n",
       "      <td>2.000000</td>\n",
       "      <td>0.0</td>\n",
       "      <td>0.0</td>\n",
       "      <td>0.0</td>\n",
       "      <td>0.0</td>\n",
       "      <td>3331.806224</td>\n",
       "      <td>21</td>\n",
       "    </tr>\n",
       "    <tr>\n",
       "      <th>21</th>\n",
       "      <td>2.100000</td>\n",
       "      <td>0.0</td>\n",
       "      <td>0.0</td>\n",
       "      <td>0.0</td>\n",
       "      <td>0.0</td>\n",
       "      <td>3331.806224</td>\n",
       "      <td>22</td>\n",
       "    </tr>\n",
       "    <tr>\n",
       "      <th>22</th>\n",
       "      <td>2.200000</td>\n",
       "      <td>0.0</td>\n",
       "      <td>0.0</td>\n",
       "      <td>0.0</td>\n",
       "      <td>0.0</td>\n",
       "      <td>3331.806224</td>\n",
       "      <td>23</td>\n",
       "    </tr>\n",
       "    <tr>\n",
       "      <th>23</th>\n",
       "      <td>2.300000</td>\n",
       "      <td>0.0</td>\n",
       "      <td>0.0</td>\n",
       "      <td>0.0</td>\n",
       "      <td>0.0</td>\n",
       "      <td>3331.806224</td>\n",
       "      <td>24</td>\n",
       "    </tr>\n",
       "  </tbody>\n",
       "</table>\n",
       "</div>"
      ],
      "text/plain": [
       "           x   xp    y   yp    t            p  particleID\n",
       "0   0.000000  0.0  0.0  0.0  0.0  3331.806224           1\n",
       "1   0.000001  0.0  0.0  0.0  0.0  3331.806224           2\n",
       "2   0.000010  0.0  0.0  0.0  0.0  3331.806224           3\n",
       "3   0.000100  0.0  0.0  0.0  0.0  3331.806224           4\n",
       "4   0.001000  0.0  0.0  0.0  0.0  3331.806224           5\n",
       "5   0.010000  0.0  0.0  0.0  0.0  3331.806224           6\n",
       "6   0.100000  0.0  0.0  0.0  0.0  3331.806224           7\n",
       "7   1.000000  0.0  0.0  0.0  0.0  3331.806224           8\n",
       "8   1.100000  0.0  0.0  0.0  0.0  3331.806224           9\n",
       "9   1.200000  0.0  0.0  0.0  0.0  3331.806224          10\n",
       "10  1.300000  0.0  0.0  0.0  0.0  3331.806224          11\n",
       "11  1.400000  0.0  0.0  0.0  0.0  3331.806224          12\n",
       "12  1.500000  0.0  0.0  0.0  0.0  3331.806224          13\n",
       "13  1.600000  0.0  0.0  0.0  0.0  3331.806224          14\n",
       "14  1.700000  0.0  0.0  0.0  0.0  3331.806224          15\n",
       "15  1.800000  0.0  0.0  0.0  0.0  3331.806224          16\n",
       "16  1.900000  0.0  0.0  0.0  0.0  3331.806224          17\n",
       "17  1.950000  0.0  0.0  0.0  0.0  3331.806224          18\n",
       "18  1.975000  0.0  0.0  0.0  0.0  3331.806224          19\n",
       "19  1.987500  0.0  0.0  0.0  0.0  3331.806224          20\n",
       "20  2.000000  0.0  0.0  0.0  0.0  3331.806224          21\n",
       "21  2.100000  0.0  0.0  0.0  0.0  3331.806224          22\n",
       "22  2.200000  0.0  0.0  0.0  0.0  3331.806224          23\n",
       "23  2.300000  0.0  0.0  0.0  0.0  3331.806224          24"
      ]
     },
     "execution_count": 29,
     "metadata": {},
     "output_type": "execute_result"
    }
   ],
   "source": [
    "# if you want to check input \n",
    "# parallel elegant\n",
    "sddsinput = SDDS(sif, \"temp_particles_input.bin\",0)\n",
    "# serial \n",
    "#sddsinput = SDDS(sif, \"temp_particles_input.txt\",1)\n",
    "sddsinput.getColumnValues()"
   ]
  },
  {
   "cell_type": "code",
   "execution_count": 26,
   "metadata": {},
   "outputs": [
    {
     "name": "stdout",
     "output_type": "stream",
     "text": [
      "Running command /home/mti/gitlab-hzb/containers/bin/pelegant.sif sddsplot -columnNames=x,xp temp-001.w1 -scale=0,0,0,0 -graph=symb,vary=subtype,fill -order=spectral -split=columnBin=particleID -device=gif -output=FODO_island_init_px_zero.gif\n",
      "Running command /home/mti/gitlab-hzb/containers/bin/pelegant.sif sddsplot -columnNames=x,xp temp-001.w1 -scale=0,0,0,0 -graph=symb,vary=subtype,fill -order=spectral -split=columnBin=particleID\n"
     ]
    }
   ],
   "source": [
    "sddsp = SDDS(sif,\"temp-001.w1\",0)\n",
    "\n",
    "# saving plot to file\n",
    "sddsp.sddsplot_base(\n",
    "    columnNames=\"x,xp\",\n",
    "    file=\"temp-001.w1\",\n",
    "    scale=\"0,0,0,0\",\n",
    "    graph=\"symb,vary=subtype,fill\",\n",
    "    order=\"spectral\",\n",
    "    split=\"columnBin=particleID\",\n",
    "    device=\"gif\",\n",
    "    output=\"FODO_island_init_px_zero.gif\"\n",
    ")\n",
    "\n",
    "# showing plot\n",
    "sddsp.sddsplot_base(\n",
    "    columnNames=\"x,xp\",\n",
    "    file=\"temp-001.w1\",\n",
    "    scale=\"0,0,0,0\",\n",
    "    graph=\"symb,vary=subtype,fill\",\n",
    "    order=\"spectral\",\n",
    "    split=\"columnBin=particleID\"\n",
    ")"
   ]
  },
  {
   "cell_type": "code",
   "execution_count": 30,
   "metadata": {},
   "outputs": [
    {
     "name": "stdout",
     "output_type": "stream",
     "text": [
      "Shape: (24, 6) - Number of paritcles: 24 \n",
      "Running command /home/mti/gitlab-hzb/containers/bin/pelegant.sif plaindata2sdds temp_plain_particles.dat temp_particles_input.bin -inputMode=ascii -outputMode=binary \"-separator=  \" -column=x,double,units=m -column=xp,double -column=y,double,units=m -column=yp,double -column=t,double,units=s -column=p,double,units=\"m$be$nc\" -columns=particleID,long -noRowCount\n",
      "bash run_pelegant.sh\n",
      "bash run_pelegant.sh temp.ele\n",
      "Running command /home/mti/gitlab-hzb/containers/bin/pelegant.sif sddsplot -columnNames=x,xp temp-001.w1 -scale=0,0,0,0 -graph=symb,vary=subtype,fill -order=spectral -split=columnBin=particleID -device=gif -output=FODO_island_init_px_not_zero.gif\n",
      "Running command /home/mti/gitlab-hzb/containers/bin/pelegant.sif sddsplot -columnNames=x,xp temp-001.w1 -scale=0,0,0,0 -graph=symb,vary=subtype,fill -order=spectral -split=columnBin=particleID\n"
     ]
    }
   ],
   "source": [
    "er.generate_sdds_particle_inputfile(man_ranges=man_ranges_px0p05)\n",
    "er.track_simple(n_passes=1000)\n",
    "\n",
    "sddsp = SDDS(sif,\"temp-001.w1\",0)\n",
    "\n",
    "# saving plot to file\n",
    "sddsp.sddsplot_base(\n",
    "    columnNames=\"x,xp\",\n",
    "    file=\"temp-001.w1\",\n",
    "    scale=\"0,0,0,0\",\n",
    "    graph=\"symb,vary=subtype,fill\",\n",
    "    order=\"spectral\",\n",
    "    split=\"columnBin=particleID\",\n",
    "    device=\"gif\",\n",
    "    output=\"FODO_island_init_px_not_zero.gif\"\n",
    ")\n",
    "\n",
    "# showing plot\n",
    "sddsp.sddsplot_base(\n",
    "    columnNames=\"x,xp\",\n",
    "    file=\"temp-001.w1\",\n",
    "    scale=\"0,0,0,0\",\n",
    "    graph=\"symb,vary=subtype,fill\",\n",
    "    order=\"spectral\",\n",
    "    split=\"columnBin=particleID\"\n",
    ")"
   ]
  },
  {
   "cell_type": "code",
   "execution_count": 43,
   "metadata": {},
   "outputs": [
    {
     "name": "stdout",
     "output_type": "stream",
     "text": [
      "Shape: (6, 6) - Number of paritcles: 6 \n",
      "Running command /home/mti/gitlab-hzb/containers/bin/pelegant.sif plaindata2sdds temp_plain_particles.dat temp_particles_input.bin -inputMode=ascii -outputMode=binary \"-separator=  \" -column=x,double,units=m -column=xp,double -column=y,double,units=m -column=yp,double -column=t,double,units=s -column=p,double,units=\"m$be$nc\" -columns=particleID,long -noRowCount\n",
      "bash run_pelegant.sh\n",
      "bash run_pelegant.sh temp.ele\n",
      "Running command /home/mti/gitlab-hzb/containers/bin/pelegant.sif sddsplot -columnNames=x,xp temp-001.w1 -scale=0,0,0,0 -graph=symb,vary=subtype,fill -order=spectral -split=columnBin=particleID -device=gif -output=FODO_island_init_px_not_zero_long.gif\n",
      "\n",
      "Took : 699.9896064960049\n"
     ]
    }
   ],
   "source": [
    "st = perf_counter()\n",
    "er.generate_sdds_particle_inputfile(man_ranges=man_ranges_lim)\n",
    "er.track_simple(n_passes=1_000_000)\n",
    "\n",
    "sddsp = SDDS(sif,\"temp-001.w1\",0)\n",
    "\n",
    "# saving plot to file\n",
    "sddsp.sddsplot_base(\n",
    "    columnNames=\"x,xp\",\n",
    "    file=\"temp-001.w1\",\n",
    "    scale=\"0,0,0,0\",\n",
    "    graph=\"symb,vary=subtype,fill\",\n",
    "    order=\"spectral\",\n",
    "    split=\"columnBin=particleID\",\n",
    "    device=\"gif\",\n",
    "    output=\"FODO_island_init_px_not_zero_long.gif\"\n",
    ")\n",
    "\n",
    "# # showing plot\n",
    "# sddsp.sddsplot_base(\n",
    "#     columnNames=\"x,xp\",\n",
    "#     file=\"temp-001.w1\",\n",
    "#     scale=\"0,0,0,0\",\n",
    "#     graph=\"symb,vary=subtype,fill\",\n",
    "#     order=\"spectral\",\n",
    "#     split=\"columnBin=particleID\"\n",
    "# )\n",
    "\n",
    "print()\n",
    "print(\"Took :\",perf_counter() - st)"
   ]
  },
  {
   "cell_type": "code",
   "execution_count": 44,
   "metadata": {},
   "outputs": [
    {
     "name": "stdout",
     "output_type": "stream",
     "text": [
      "Running command /home/mti/gitlab-hzb/containers/bin/pelegant.sif sddsplot -columnNames=x,xp temp-001.w1 -scale=0,0,0,0 -graph=symb,vary=subtype,fill -order=spectral -split=columnBin=particleID\n"
     ]
    }
   ],
   "source": [
    "# showing plot\n",
    "sddsp.sddsplot_base(\n",
    "    columnNames=\"x,xp\",\n",
    "    file=\"temp-001.w1\",\n",
    "    scale=\"0,0,0,0\",\n",
    "    graph=\"symb,vary=subtype,fill\",\n",
    "    order=\"spectral\",\n",
    "    split=\"columnBin=particleID\"\n",
    ")\n"
   ]
  },
  {
   "cell_type": "markdown",
   "metadata": {},
   "source": [
    "# Reading the particle tracking data - be careful with large files (memory)"
   ]
  },
  {
   "cell_type": "code",
   "execution_count": 47,
   "metadata": {},
   "outputs": [
    {
     "name": "stdout",
     "output_type": "stream",
     "text": [
      "False\n",
      "temp-001.w1.txt\n",
      "temp-001.w1.txt\n",
      "['x', 'xp', 'y', 'yp', 't', 'p', 'dt', 'particleID']\n",
      "File is large, output redirected to file temp-001.w1.txt_columnvalues.dat\n"
     ]
    }
   ],
   "source": [
    "pdata = sddsp.readParticleData()"
   ]
  },
  {
   "cell_type": "code",
   "execution_count": 60,
   "metadata": {},
   "outputs": [],
   "source": [
    "df = pdata.groupby(\"particleID\").get_group(1).compute()"
   ]
  },
  {
   "cell_type": "code",
   "execution_count": 61,
   "metadata": {},
   "outputs": [
    {
     "data": {
      "image/png": "[encoded data removed]",
      "text/plain": [
       "<Figure size 864x576 with 1 Axes>"
      ]
     },
     "metadata": {
      "needs_background": "light"
     },
     "output_type": "display_data"
    }
   ],
   "source": [
    "from matplotlib import pyplot as plt\n",
    "fig = plt.figure(figsize=(12,8))\n",
    "plt.scatter(df.x[::100],df.xp[::100],s=1)\n",
    "plt.savefig(\"elliptic.png\")"
   ]
  },
  {
   "cell_type": "code",
   "execution_count": 62,
   "metadata": {},
   "outputs": [],
   "source": [
    "df = pdata.groupby(\"particleID\").get_group(2).compute()"
   ]
  },
  {
   "cell_type": "code",
   "execution_count": 63,
   "metadata": {},
   "outputs": [
    {
     "data": {
      "image/png": "[encoded data removed]",
      "text/plain": [
       "<Figure size 864x576 with 1 Axes>"
      ]
     },
     "metadata": {
      "needs_background": "light"
     },
     "output_type": "display_data"
    }
   ],
   "source": [
    "fig = plt.figure(figsize=(12,8))\n",
    "plt.scatter(df.x[::100],df.xp[::100],s=1)\n",
    "plt.savefig(\"island.png\")"
   ]
  },
  {
   "cell_type": "code",
   "execution_count": null,
   "metadata": {},
   "outputs": [],
   "source": []
  }
 ],
 "metadata": {
  "kernelspec": {
   "display_name": "Python 3",
   "language": "python",
   "name": "python3"
  },
  "language_info": {
   "codemirror_mode": {
    "name": "ipython",
    "version": 3
   },
   "file_extension": ".py",
   "mimetype": "text/x-python",
   "name": "python",
   "nbconvert_exporter": "python",
   "pygments_lexer": "ipython3",
   "version": "3.6.12"
  },
  "toc": {
   "base_numbering": 1,
   "nav_menu": {},
   "number_sections": true,
   "sideBar": true,
   "skip_h1_title": false,
   "title_cell": "Table of Contents",
   "title_sidebar": "Contents",
   "toc_cell": false,
   "toc_position": {},
   "toc_section_display": true,
   "toc_window_display": false
  }
 },
 "nbformat": 4,
 "nbformat_minor": 4
}
