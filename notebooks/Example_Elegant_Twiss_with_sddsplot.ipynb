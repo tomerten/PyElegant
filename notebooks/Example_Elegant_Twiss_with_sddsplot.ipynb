{
 "cells": [
  {
   "cell_type": "code",
   "execution_count": 1,
   "metadata": {},
   "outputs": [
    {
     "data": {
      "text/html": [
       "<style>.container {width:95% !important;} </style>"
      ],
      "text/plain": [
       "<IPython.core.display.HTML object>"
      ]
     },
     "metadata": {},
     "output_type": "display_data"
    }
   ],
   "source": [
    "from IPython.core.display import display,HTML\n",
    "display(HTML(\"<style>.container {width:95% !important;} </style>\"))\n",
    "\n",
    "%load_ext autoreload\n",
    "%autoreload 2"
   ]
  },
  {
   "cell_type": "code",
   "execution_count": 2,
   "metadata": {},
   "outputs": [],
   "source": [
    "from pyelegant.ElegantRun import ElegantRun\n",
    "from pyelegant.SDDSTools.SDDS import SDDS, SDDSCommand\n",
    "from pyelegant.SDDSTools.Utils import GenerateNDimCoordinateGrid"
   ]
  },
  {
   "cell_type": "markdown",
   "metadata": {},
   "source": [
    "# Setup"
   ]
  },
  {
   "cell_type": "code",
   "execution_count": 3,
   "metadata": {},
   "outputs": [],
   "source": [
    "sif = \"/home/mti/gitlab-hzb/containers/bin/pelegant.sif\"\n",
    "lattice = \"/home/mti/tmp/sdds/fodo.lte\"\n",
    "er = ElegantRun(sif,lattice, use_beamline=\"ACC\", energy=1700.00)"
   ]
  },
  {
   "cell_type": "markdown",
   "metadata": {},
   "source": [
    "# Twiss"
   ]
  },
  {
   "cell_type": "code",
   "execution_count": 4,
   "metadata": {},
   "outputs": [],
   "source": [
    "twidata, twipar = er.findtwiss()"
   ]
  },
  {
   "cell_type": "code",
   "execution_count": 6,
   "metadata": {},
   "outputs": [
    {
     "data": {
      "text/plain": [
       "Index(['Step', 'nux', 'dnux/dp', 'dnux/dp2', 'dnux/dp3', 'Ax', 'AxLocation',\n",
       "       'nuy', 'dnuy/dp', 'dnuy/dp2', 'dnuy/dp3', 'Ay', 'AyLocation',\n",
       "       'deltaHalfRange', 'nuxChromUpper', 'nuxChromLower', 'nuyChromUpper',\n",
       "       'nuyChromLower', 'pCentral', 'dbetax/dp', 'dbetay/dp', 'dalphax/dp',\n",
       "       'dalphay/dp', 'etax2', 'etay2', 'etax3', 'etay3', 'etaxp2', 'etayp2',\n",
       "       'etaxp3', 'etayp3', 'betaxMin', 'betaxAve', 'betaxMax', 'betayMin',\n",
       "       'betayAve', 'betayMax', 'etaxMax', 'etayMax', 'waistsx', 'waistsy',\n",
       "       'dnux/dAx', 'dnux/dAy', 'dnuy/dAx', 'dnuy/dAy', 'dnux/dAx2',\n",
       "       'dnux/dAy2', 'dnux/dAxAy', 'dnuy/dAx2', 'dnuy/dAy2', 'dnuy/dAxAy',\n",
       "       'nuxTswaLower', 'nuxTswaUpper', 'nuyTswaLower', 'nuyTswaUpper',\n",
       "       'couplingIntegral', 'couplingDelta', 'emittanceRatio', 'alphac2',\n",
       "       'alphac', 'I1', 'I2', 'I3', 'I4', 'I5', 'ex0', 'enx0', 'taux', 'Jx',\n",
       "       'tauy', 'Jy', 'Sdelta0', 'taudelta', 'Jdelta', 'U0', 'length'],\n",
       "      dtype='object', name='ParameterName')"
      ]
     },
     "execution_count": 6,
     "metadata": {},
     "output_type": "execute_result"
    }
   ],
   "source": [
    "twipar.index"
   ]
  },
  {
   "cell_type": "code",
   "execution_count": 7,
   "metadata": {},
   "outputs": [
    {
     "data": {
      "text/plain": [
       "(6.5, 0.24051479999999997, 0.0076865069999999995)"
      ]
     },
     "execution_count": 7,
     "metadata": {},
     "output_type": "execute_result"
    }
   ],
   "source": [
    "twipar.length, twipar.Jx, twipar.I2"
   ]
  },
  {
   "cell_type": "code",
   "execution_count": 10,
   "metadata": {},
   "outputs": [
    {
     "data": {
      "text/html": [
       "<div>\n",
       "<style scoped>\n",
       "    .dataframe tbody tr th:only-of-type {\n",
       "        vertical-align: middle;\n",
       "    }\n",
       "\n",
       "    .dataframe tbody tr th {\n",
       "        vertical-align: top;\n",
       "    }\n",
       "\n",
       "    .dataframe thead th {\n",
       "        text-align: right;\n",
       "    }\n",
       "</style>\n",
       "<table border=\"1\" class=\"dataframe\">\n",
       "  <thead>\n",
       "    <tr style=\"text-align: right;\">\n",
       "      <th></th>\n",
       "      <th>s</th>\n",
       "      <th>betax</th>\n",
       "      <th>alphax</th>\n",
       "      <th>psix</th>\n",
       "      <th>etax</th>\n",
       "      <th>etaxp</th>\n",
       "      <th>xAperture</th>\n",
       "      <th>betay</th>\n",
       "      <th>alphay</th>\n",
       "      <th>psiy</th>\n",
       "      <th>...</th>\n",
       "      <th>pCentral0</th>\n",
       "      <th>ElementName</th>\n",
       "      <th>ElementOccurence</th>\n",
       "      <th>ElementType</th>\n",
       "      <th>ChamberShape</th>\n",
       "      <th>dI1</th>\n",
       "      <th>dI2</th>\n",
       "      <th>dI3</th>\n",
       "      <th>dI4</th>\n",
       "      <th>dI5</th>\n",
       "    </tr>\n",
       "  </thead>\n",
       "  <tbody>\n",
       "    <tr>\n",
       "      <th>0</th>\n",
       "      <td>0.0</td>\n",
       "      <td>14.656392</td>\n",
       "      <td>0.004132</td>\n",
       "      <td>0.000000</td>\n",
       "      <td>0.099418</td>\n",
       "      <td>0.035858</td>\n",
       "      <td>10.0</td>\n",
       "      <td>1.204808</td>\n",
       "      <td>-0.000775</td>\n",
       "      <td>0.000000</td>\n",
       "      <td>...</td>\n",
       "      <td>3326.816296</td>\n",
       "      <td>_BEG_</td>\n",
       "      <td>1</td>\n",
       "      <td>MARK</td>\n",
       "      <td>NaN</td>\n",
       "      <td>0.000000</td>\n",
       "      <td>0.000000</td>\n",
       "      <td>0.000000e+00</td>\n",
       "      <td>0.000000</td>\n",
       "      <td>0.000000e+00</td>\n",
       "    </tr>\n",
       "    <tr>\n",
       "      <th>1</th>\n",
       "      <td>0.0</td>\n",
       "      <td>14.656392</td>\n",
       "      <td>0.004132</td>\n",
       "      <td>0.000000</td>\n",
       "      <td>0.099418</td>\n",
       "      <td>0.035858</td>\n",
       "      <td>10.0</td>\n",
       "      <td>1.204808</td>\n",
       "      <td>-0.000775</td>\n",
       "      <td>0.000000</td>\n",
       "      <td>...</td>\n",
       "      <td>3326.816296</td>\n",
       "      <td>W1</td>\n",
       "      <td>1</td>\n",
       "      <td>WATCH</td>\n",
       "      <td>?</td>\n",
       "      <td>0.000000</td>\n",
       "      <td>0.000000</td>\n",
       "      <td>0.000000e+00</td>\n",
       "      <td>0.000000</td>\n",
       "      <td>0.000000e+00</td>\n",
       "    </tr>\n",
       "    <tr>\n",
       "      <th>2</th>\n",
       "      <td>0.5</td>\n",
       "      <td>12.451249</td>\n",
       "      <td>4.160212</td>\n",
       "      <td>0.036044</td>\n",
       "      <td>0.105188</td>\n",
       "      <td>-0.012880</td>\n",
       "      <td>10.0</td>\n",
       "      <td>1.626527</td>\n",
       "      <td>-0.887335</td>\n",
       "      <td>0.375485</td>\n",
       "      <td>...</td>\n",
       "      <td>3326.816296</td>\n",
       "      <td>QF1</td>\n",
       "      <td>1</td>\n",
       "      <td>KQUAD</td>\n",
       "      <td>?</td>\n",
       "      <td>-0.001661</td>\n",
       "      <td>0.000507</td>\n",
       "      <td>1.615468e-05</td>\n",
       "      <td>-0.002118</td>\n",
       "      <td>2.019670e-07</td>\n",
       "    </tr>\n",
       "    <tr>\n",
       "      <th>3</th>\n",
       "      <td>0.5</td>\n",
       "      <td>12.451249</td>\n",
       "      <td>4.160212</td>\n",
       "      <td>0.036044</td>\n",
       "      <td>0.105188</td>\n",
       "      <td>-0.012880</td>\n",
       "      <td>10.0</td>\n",
       "      <td>1.626527</td>\n",
       "      <td>-0.887335</td>\n",
       "      <td>0.375485</td>\n",
       "      <td>...</td>\n",
       "      <td>3326.816296</td>\n",
       "      <td>W2</td>\n",
       "      <td>1</td>\n",
       "      <td>WATCH</td>\n",
       "      <td>?</td>\n",
       "      <td>0.000000</td>\n",
       "      <td>0.000000</td>\n",
       "      <td>0.000000e+00</td>\n",
       "      <td>0.000000</td>\n",
       "      <td>0.000000e+00</td>\n",
       "    </tr>\n",
       "    <tr>\n",
       "      <th>4</th>\n",
       "      <td>2.0</td>\n",
       "      <td>3.278841</td>\n",
       "      <td>1.954727</td>\n",
       "      <td>0.273016</td>\n",
       "      <td>0.085868</td>\n",
       "      <td>-0.012880</td>\n",
       "      <td>10.0</td>\n",
       "      <td>6.761020</td>\n",
       "      <td>-2.535660</td>\n",
       "      <td>0.844860</td>\n",
       "      <td>...</td>\n",
       "      <td>3326.816296</td>\n",
       "      <td>DL</td>\n",
       "      <td>1</td>\n",
       "      <td>DRIF</td>\n",
       "      <td>?</td>\n",
       "      <td>0.000000</td>\n",
       "      <td>0.000000</td>\n",
       "      <td>0.000000e+00</td>\n",
       "      <td>0.000000</td>\n",
       "      <td>0.000000e+00</td>\n",
       "    </tr>\n",
       "    <tr>\n",
       "      <th>5</th>\n",
       "      <td>4.5</td>\n",
       "      <td>3.253565</td>\n",
       "      <td>-1.946305</td>\n",
       "      <td>1.843812</td>\n",
       "      <td>0.084423</td>\n",
       "      <td>0.003466</td>\n",
       "      <td>10.0</td>\n",
       "      <td>6.752777</td>\n",
       "      <td>2.534450</td>\n",
       "      <td>1.122490</td>\n",
       "      <td>...</td>\n",
       "      <td>3326.816296</td>\n",
       "      <td>QD1</td>\n",
       "      <td>1</td>\n",
       "      <td>KQUAD</td>\n",
       "      <td>?</td>\n",
       "      <td>-0.001569</td>\n",
       "      <td>0.000135</td>\n",
       "      <td>9.947827e-07</td>\n",
       "      <td>0.000849</td>\n",
       "      <td>6.220966e-09</td>\n",
       "    </tr>\n",
       "    <tr>\n",
       "      <th>6</th>\n",
       "      <td>6.0</td>\n",
       "      <td>12.403688</td>\n",
       "      <td>-4.153777</td>\n",
       "      <td>2.082185</td>\n",
       "      <td>0.089622</td>\n",
       "      <td>0.003466</td>\n",
       "      <td>10.0</td>\n",
       "      <td>1.622888</td>\n",
       "      <td>0.885476</td>\n",
       "      <td>1.592743</td>\n",
       "      <td>...</td>\n",
       "      <td>3326.816296</td>\n",
       "      <td>DL</td>\n",
       "      <td>2</td>\n",
       "      <td>DRIF</td>\n",
       "      <td>?</td>\n",
       "      <td>0.000000</td>\n",
       "      <td>0.000000</td>\n",
       "      <td>0.000000e+00</td>\n",
       "      <td>0.000000</td>\n",
       "      <td>0.000000e+00</td>\n",
       "    </tr>\n",
       "    <tr>\n",
       "      <th>7</th>\n",
       "      <td>6.5</td>\n",
       "      <td>14.655685</td>\n",
       "      <td>0.004104</td>\n",
       "      <td>2.118265</td>\n",
       "      <td>0.099418</td>\n",
       "      <td>0.035858</td>\n",
       "      <td>10.0</td>\n",
       "      <td>1.204783</td>\n",
       "      <td>-0.000784</td>\n",
       "      <td>1.968563</td>\n",
       "      <td>...</td>\n",
       "      <td>3326.816296</td>\n",
       "      <td>QF2</td>\n",
       "      <td>1</td>\n",
       "      <td>KQUAD</td>\n",
       "      <td>?</td>\n",
       "      <td>0.005518</td>\n",
       "      <td>0.007044</td>\n",
       "      <td>8.360811e-04</td>\n",
       "      <td>0.007107</td>\n",
       "      <td>4.094024e-06</td>\n",
       "    </tr>\n",
       "  </tbody>\n",
       "</table>\n",
       "<p>8 rows × 23 columns</p>\n",
       "</div>"
      ],
      "text/plain": [
       "     s      betax    alphax      psix      etax     etaxp  xAperture  \\\n",
       "0  0.0  14.656392  0.004132  0.000000  0.099418  0.035858       10.0   \n",
       "1  0.0  14.656392  0.004132  0.000000  0.099418  0.035858       10.0   \n",
       "2  0.5  12.451249  4.160212  0.036044  0.105188 -0.012880       10.0   \n",
       "3  0.5  12.451249  4.160212  0.036044  0.105188 -0.012880       10.0   \n",
       "4  2.0   3.278841  1.954727  0.273016  0.085868 -0.012880       10.0   \n",
       "5  4.5   3.253565 -1.946305  1.843812  0.084423  0.003466       10.0   \n",
       "6  6.0  12.403688 -4.153777  2.082185  0.089622  0.003466       10.0   \n",
       "7  6.5  14.655685  0.004104  2.118265  0.099418  0.035858       10.0   \n",
       "\n",
       "      betay    alphay      psiy  ...    pCentral0  ElementName  \\\n",
       "0  1.204808 -0.000775  0.000000  ...  3326.816296        _BEG_   \n",
       "1  1.204808 -0.000775  0.000000  ...  3326.816296           W1   \n",
       "2  1.626527 -0.887335  0.375485  ...  3326.816296          QF1   \n",
       "3  1.626527 -0.887335  0.375485  ...  3326.816296           W2   \n",
       "4  6.761020 -2.535660  0.844860  ...  3326.816296           DL   \n",
       "5  6.752777  2.534450  1.122490  ...  3326.816296          QD1   \n",
       "6  1.622888  0.885476  1.592743  ...  3326.816296           DL   \n",
       "7  1.204783 -0.000784  1.968563  ...  3326.816296          QF2   \n",
       "\n",
       "   ElementOccurence  ElementType ChamberShape       dI1       dI2  \\\n",
       "0                 1         MARK          NaN  0.000000  0.000000   \n",
       "1                 1        WATCH            ?  0.000000  0.000000   \n",
       "2                 1        KQUAD            ? -0.001661  0.000507   \n",
       "3                 1        WATCH            ?  0.000000  0.000000   \n",
       "4                 1         DRIF            ?  0.000000  0.000000   \n",
       "5                 1        KQUAD            ? -0.001569  0.000135   \n",
       "6                 2         DRIF            ?  0.000000  0.000000   \n",
       "7                 1        KQUAD            ?  0.005518  0.007044   \n",
       "\n",
       "            dI3       dI4           dI5  \n",
       "0  0.000000e+00  0.000000  0.000000e+00  \n",
       "1  0.000000e+00  0.000000  0.000000e+00  \n",
       "2  1.615468e-05 -0.002118  2.019670e-07  \n",
       "3  0.000000e+00  0.000000  0.000000e+00  \n",
       "4  0.000000e+00  0.000000  0.000000e+00  \n",
       "5  9.947827e-07  0.000849  6.220966e-09  \n",
       "6  0.000000e+00  0.000000  0.000000e+00  \n",
       "7  8.360811e-04  0.007107  4.094024e-06  \n",
       "\n",
       "[8 rows x 23 columns]"
      ]
     },
     "execution_count": 10,
     "metadata": {},
     "output_type": "execute_result"
    }
   ],
   "source": [
    "twidata"
   ]
  },
  {
   "cell_type": "markdown",
   "metadata": {},
   "source": [
    "# SDDSplot"
   ]
  },
  {
   "cell_type": "code",
   "execution_count": 23,
   "metadata": {},
   "outputs": [],
   "source": [
    "# load sdds file - int is filetype 0 is bin 1 is ascii\n",
    "sddsp = SDDS(sif,\"temp.twi\",0)"
   ]
  },
  {
   "cell_type": "code",
   "execution_count": null,
   "metadata": {},
   "outputs": [],
   "source": [
    "# simple basic plot\n",
    "sddsp.sddsplot_base(file=sddsp.filename,col=\"s,betax,grap=\"line\")"
   ]
  },
  {
   "cell_type": "code",
   "execution_count": 32,
   "metadata": {},
   "outputs": [
    {
     "name": "stdout",
     "output_type": "stream",
     "text": [
      "Running command /home/mti/gitlab-hzb/containers/bin/pelegant.sif sddsplot temp.twi -col=s,\"(betax,betay)\" -grap=line\n"
     ]
    }
   ],
   "source": [
    "# plotting multiple columns\n",
    "sddsp.sddsplot_base(file=sddsp.filename,col=\"s,\\\"(betax,betay)\\\"\",grap=\"line\")"
   ]
  },
  {
   "cell_type": "code",
   "execution_count": 37,
   "metadata": {},
   "outputs": [
    {
     "name": "stdout",
     "output_type": "stream",
     "text": [
      "Running command /home/mti/gitlab-hzb/containers/bin/pelegant.sif sddsplot temp.twi -columnNames=s,\"(betax,betay)\" -grap=line,vary=subtype\n"
     ]
    }
   ],
   "source": [
    "# adding color\n",
    "sddsp.sddsplot_base(file=sddsp.filename,columnNames=\"s,\\\"(betax,betay)\\\"\",grap=\"line,vary=subtype\")"
   ]
  },
  {
   "cell_type": "code",
   "execution_count": 45,
   "metadata": {},
   "outputs": [
    {
     "name": "stdout",
     "output_type": "stream",
     "text": [
      "Running command /home/mti/gitlab-hzb/containers/bin/pelegant.sif sddsplot temp.twi -columnNames=s,\"(betax,betay)\" -grap=line,vary -legend -columnNames=s,Profile temp.mag -factor=ym=5\n"
     ]
    }
   ],
   "source": [
    "# add legend\n",
    "# add beamline graph using the mag file with magnification\n",
    "sddsp.sddsplot_base(file=sddsp.filename,columnNames=\"s,\\\"(betax,betay)\\\"\",grap=\"line,vary\",\n",
    "                    legend=None, columnNames_2=\"s,Profile\",file_1=\"temp.mag\", factor=\"ym=5\")"
   ]
  },
  {
   "cell_type": "code",
   "execution_count": null,
   "metadata": {},
   "outputs": [],
   "source": []
  }
 ],
 "metadata": {
  "kernelspec": {
   "display_name": "Python 3",
   "language": "python",
   "name": "python3"
  },
  "language_info": {
   "codemirror_mode": {
    "name": "ipython",
    "version": 3
   },
   "file_extension": ".py",
   "mimetype": "text/x-python",
   "name": "python",
   "nbconvert_exporter": "python",
   "pygments_lexer": "ipython3",
   "version": "3.6.12"
  },
  "toc": {
   "base_numbering": 1,
   "nav_menu": {},
   "number_sections": true,
   "sideBar": true,
   "skip_h1_title": false,
   "title_cell": "Table of Contents",
   "title_sidebar": "Contents",
   "toc_cell": false,
   "toc_position": {},
   "toc_section_display": true,
   "toc_window_display": false
  }
 },
 "nbformat": 4,
 "nbformat_minor": 4
}
